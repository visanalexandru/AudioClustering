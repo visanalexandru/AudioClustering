{
 "cells": [
  {
   "cell_type": "code",
   "execution_count": 2,
   "metadata": {},
   "outputs": [],
   "source": [
    "import scipy\n",
    "from scipy.io import wavfile\n",
    "import matplotlib.pyplot as plt\n",
    "import os\n",
    "import glob\n",
    "import numpy as np\n",
    "from tqdm import tqdm\n",
    "import librosa\n",
    "import sklearn\n",
    "from sklearn.manifold import TSNE \n",
    "from sklearn.cluster import Birch, KMeans, AgglomerativeClustering\n",
    "from sklearn.metrics import rand_score, adjusted_rand_score, ConfusionMatrixDisplay\n",
    "from sklearn_extra.cluster import CLARA\n",
    "from sklearn.preprocessing import StandardScaler\n",
    "from sklearn.model_selection import train_test_split\n",
    "from joblib import Parallel, delayed\n",
    "from sklearn.metrics.cluster import contingency_matrix\n",
    "from scipy.optimize import linear_sum_assignment\n",
    "from sklearn.metrics import accuracy_score\n",
    "from sklearn.model_selection import GridSearchCV, ParameterGrid"
   ]
  },
  {
   "cell_type": "code",
   "execution_count": 2,
   "metadata": {},
   "outputs": [],
   "source": [
    "class AudioFile:\n",
    "    def __init__(self, sample_rate, samples):\n",
    "        self.sample_rate = sample_rate\n",
    "        self.samples = samples"
   ]
  },
  {
   "cell_type": "markdown",
   "metadata": {},
   "source": [
    "### Loading the datset\n",
    "\n",
    "Here we load the audio dataset. It is composed of 60 folders, one for each speaker. In each speaker folder there are 50 audio files for each digit.\n",
    "\n",
    "Our dataset will be stored in a python dictionary so that we can index it like this:\n",
    "\n",
    "\n",
    "```python\n",
    "audio_files_for_digit_8 = dataset[Speaker][8]\n",
    "```"
   ]
  },
  {
   "cell_type": "code",
   "execution_count": 3,
   "metadata": {},
   "outputs": [
    {
     "name": "stdout",
     "output_type": "stream",
     "text": [
      "The number of speakers is: 60\n"
     ]
    },
    {
     "name": "stderr",
     "output_type": "stream",
     "text": [
      "100%|██████████| 60/60 [00:12<00:00,  4.86it/s]\n"
     ]
    }
   ],
   "source": [
    "def load_digits(path):\n",
    "    digits = dict()\n",
    "\n",
    "    for digit in range(10):\n",
    "        filenames = glob.glob(f\"{digit}_*_*.wav\", root_dir=path)\n",
    "        audio_files = []\n",
    "\n",
    "        for filename in filenames:\n",
    "            sample_rate, samples = wavfile.read(os.path.join(path, filename))\n",
    "            audio_files.append(AudioFile(sample_rate, samples))\n",
    "\n",
    "        digits[digit] = audio_files\n",
    "\n",
    "    return digits \n",
    "\n",
    "def load_dataset(path):\n",
    "    dirs = next(os.walk(path))[1]\n",
    "    print(f\"The number of speakers is: {len(dirs)}\")\n",
    "\n",
    "    dataset = dict()\n",
    "\n",
    "    for speaker in tqdm(dirs):\n",
    "        dataset[speaker] = load_digits(os.path.join(path, speaker)) \n",
    "        \n",
    "    return dataset\n",
    "    \n",
    "dataset = load_dataset(\"data\")"
   ]
  },
  {
   "cell_type": "markdown",
   "metadata": {},
   "source": [
    "### Dataset analysis\n",
    "\n",
    "Here we make sure that all files have the same sample rate. We also plot the histogram for the number of samples in each file."
   ]
  },
  {
   "cell_type": "code",
   "execution_count": 4,
   "metadata": {},
   "outputs": [
    {
     "name": "stdout",
     "output_type": "stream",
     "text": [
      "The sample rates are: {48000}. There should be only one sample rate.\n",
      "The maximum amount of samples is:  47998\n"
     ]
    },
    {
     "data": {
      "image/png": "[encoded data removed]",
      "text/plain": [
       "<Figure size 640x480 with 1 Axes>"
      ]
     },
     "metadata": {},
     "output_type": "display_data"
    }
   ],
   "source": [
    "# Here we make sure that all files have the same sample rate.\n",
    "sample_rates = set()\n",
    "\n",
    "# We want to plot a histogram of the number of samples in the audio files.\n",
    "num_samples = [] \n",
    "\n",
    "for speaker in dataset:\n",
    "    for digit in range(10):\n",
    "        for file in dataset[speaker][digit]:\n",
    "            sample_rates.add(file.sample_rate)\n",
    "            num_samples.append(len(file.samples))\n",
    "\n",
    "max_samples = max(num_samples)\n",
    "print(f\"The sample rates are: {sample_rates}. There should be only one sample rate.\")\n",
    "print(\"The maximum amount of samples is: \", max(num_samples))\n",
    "plt.title(\"The number of samples per audio file.\")\n",
    "plt.hist(num_samples)\n",
    "plt.show()"
   ]
  },
  {
   "cell_type": "markdown",
   "metadata": {},
   "source": [
    "### Feature extraction\n",
    "\n",
    "We resize each signal to 48000 samples before extracting features to make all signals the same dimension.\n",
    "\n",
    "We split each signal into 12 time windows, and extract 12 mfccs for each time window. We also discard the first mfcc as it\n",
    "only carries the loudness of the signal.\n",
    "\n",
    "We are left with 12 time windows of 11 mfccs each. We flatten this matrix to obtain our features."
   ]
  },
  {
   "cell_type": "code",
   "execution_count": 5,
   "metadata": {},
   "outputs": [],
   "source": [
    "def extract_features(audio_file, max_duration):\n",
    "    y = audio_file.samples.astype(np.float32)\n",
    "\n",
    "    # Resize y to the maximum possible duration.\n",
    "    y = np.concat([y, np.zeros(max_duration - len(y))]) \n",
    "    y /= np.max(audio_file.samples)\n",
    "\n",
    "    mfccs = librosa.feature.mfcc(y=y, sr=audio_file.sample_rate, n_fft=8192, hop_length=4096, n_mfcc=12)\n",
    "    mfccs = mfccs[2:, :]\n",
    "\n",
    "    return mfccs.flatten()"
   ]
  },
  {
   "cell_type": "code",
   "execution_count": 6,
   "metadata": {},
   "outputs": [
    {
     "name": "stderr",
     "output_type": "stream",
     "text": [
      "100%|██████████| 60/60 [06:38<00:00,  6.65s/it]"
     ]
    },
    {
     "name": "stdout",
     "output_type": "stream",
     "text": [
      "(30000, 120)\n"
     ]
    },
    {
     "name": "stderr",
     "output_type": "stream",
     "text": [
      "\n"
     ]
    }
   ],
   "source": [
    "X = []\n",
    "y = []\n",
    "\n",
    "for speaker in tqdm(dataset):\n",
    "    for digit in range(0, 10):\n",
    "        for audio_file in dataset[speaker][digit]:\n",
    "            X.append(extract_features(audio_file, 48000))\n",
    "            y.append(digit)\n",
    "\n",
    "\n",
    "X = np.array(X)\n",
    "y = np.array(y)\n",
    "print(X.shape)"
   ]
  },
  {
   "cell_type": "code",
   "execution_count": 8,
   "metadata": {},
   "outputs": [],
   "source": [
    "np.save(\"mfcc-features.pkl\", X)\n",
    "np.save(\"mfcc-labels.pkl\", y)"
   ]
  },
  {
   "cell_type": "code",
   "execution_count": 3,
   "metadata": {},
   "outputs": [],
   "source": [
    "X = np.load(\"mfcc-features.pkl.npy\")\n",
    "y = np.load(\"mfcc-labels.pkl.npy\")"
   ]
  },
  {
   "cell_type": "markdown",
   "metadata": {},
   "source": [
    "### MFCC visualization"
   ]
  },
  {
   "cell_type": "code",
   "execution_count": 4,
   "metadata": {},
   "outputs": [
    {
     "data": {
      "text/plain": [
       "<matplotlib.image.AxesImage at 0x79b77d61a7b0>"
      ]
     },
     "execution_count": 4,
     "metadata": {},
     "output_type": "execute_result"
    },
    {
     "data": {
      "image/png": "[encoded data removed]",
      "text/plain": [
       "<Figure size 640x480 with 1 Axes>"
      ]
     },
     "metadata": {},
     "output_type": "display_data"
    }
   ],
   "source": [
    "sample = X[202].reshape(10, 12)\n",
    "plt.imshow(sample)"
   ]
  },
  {
   "cell_type": "markdown",
   "metadata": {},
   "source": [
    "### Train-test split\n",
    "\n",
    "Here we split the dataset into train and test sets."
   ]
  },
  {
   "cell_type": "code",
   "execution_count": 5,
   "metadata": {},
   "outputs": [
    {
     "name": "stdout",
     "output_type": "stream",
     "text": [
      "(20100, 120) (20100,)\n",
      "(9900, 120) (9900,)\n"
     ]
    }
   ],
   "source": [
    "X_train, X_test, y_train, y_test = train_test_split(X, y, test_size=0.33, random_state=42)\n",
    "print(X_train.shape, y_train.shape)\n",
    "print(X_test.shape, y_test.shape)"
   ]
  },
  {
   "cell_type": "markdown",
   "metadata": {},
   "source": [
    "### Training set visualization\n",
    "\n",
    "We visualize the training set using T-SNE."
   ]
  },
  {
   "cell_type": "code",
   "execution_count": 6,
   "metadata": {},
   "outputs": [
    {
     "name": "stdout",
     "output_type": "stream",
     "text": [
      "(20100, 2)\n"
     ]
    },
    {
     "data": {
      "text/plain": [
       "<matplotlib.collections.PathCollection at 0x79b77d61b0e0>"
      ]
     },
     "execution_count": 6,
     "metadata": {},
     "output_type": "execute_result"
    },
    {
     "data": {
      "image/png": "[encoded data removed]",
      "text/plain": [
       "<Figure size 640x480 with 1 Axes>"
      ]
     },
     "metadata": {},
     "output_type": "display_data"
    }
   ],
   "source": [
    "colors = np.array([\"red\", \"green\", \"blue\", \"pink\", \"magenta\", \"brown\", \"yellow\", \"black\", \"grey\", \"orange\"])\n",
    "\n",
    "tsne = TSNE(n_components=2)\n",
    "X_train_transform = tsne.fit_transform(X_train)\n",
    "\n",
    "print(X_train_transform.shape)\n",
    "plt.scatter(X_train_transform[:, 0], X_train_transform[:, 1], c=colors[y_train])"
   ]
  },
  {
   "cell_type": "markdown",
   "metadata": {},
   "source": [
    "### Evaluating models\n",
    "\n",
    "This function computes various metrics to evaluate the clustering performance. Most importantly, it finds a mapping from the cluster labels to the true labels using the Hungarian algorithm. This is useful because we \n",
    "can later report the true accuracy on the test set."
   ]
  },
  {
   "cell_type": "code",
   "execution_count": 7,
   "metadata": {},
   "outputs": [],
   "source": [
    "def evaluate_model(model, verbose=False):\n",
    "    predictions_train = model.predict(X_train)\n",
    "    predictions_test = model.predict(X_test)\n",
    "    contingency = contingency_matrix(y_train, predictions_train)\n",
    "\n",
    "    if verbose:\n",
    "        print(\"Rand score on the train set: \", rand_score(y_train, predictions_train))\n",
    "        print(\"Adjusted rand score on the train set: \", adjusted_rand_score(y_train, predictions_train))\n",
    "\n",
    "        print(\"Rand score on the test set: \", rand_score(y_test, predictions_test))\n",
    "        print(\"Adjusted rand score on the test set: \", adjusted_rand_score(y_test, predictions_test))\n",
    "\n",
    "        fig, axs = plt.subplots(1, 2, figsize=(20, 10))\n",
    "        axs[0].set_title(\"True labels\")\n",
    "        axs[0].scatter(X_train_transform[:, 0], X_train_transform[:, 1], c=colors[y_train])\n",
    "        axs[1].set_title(\"Predicted - before alignment\")\n",
    "        axs[1].scatter(X_train_transform[:, 0], X_train_transform[:, 1], c=colors[predictions_train])\n",
    "\n",
    "        plt.show()\n",
    "\n",
    "        print(\"Contingency matrix:\")\n",
    "        disp = ConfusionMatrixDisplay(contingency)\n",
    "        disp.plot()\n",
    "        plt.show()\n",
    "\n",
    "\n",
    "    # Compute the best assignment.\n",
    "    rows, cols = linear_sum_assignment(contingency, maximize=True)\n",
    "    \n",
    "    # Now build the mapping.\n",
    "    mapping = dict([])\n",
    "    for index in range(len(rows)):\n",
    "        mapping[int(cols[index])] = int(rows[index])\n",
    "\n",
    "    updated_predictions_train = np.array(list(mapping[pred] for pred in predictions_train))\n",
    "    updated_predictions_test= np.array(list(mapping[pred] for pred in predictions_test))\n",
    "\n",
    "    train_accuracy = accuracy_score(y_train, updated_predictions_train)\n",
    "    test_accuracy = accuracy_score(y_test, updated_predictions_test)\n",
    "\n",
    "    if verbose:\n",
    "        print(\"Best mapping using the hungarian algorithm: \", mapping)\n",
    "        fig, axs = plt.subplots(1, 2, figsize=(20, 10))\n",
    "        axs[0].set_title(\"True labels\")\n",
    "        axs[0].scatter(X_train_transform[:, 0], X_train_transform[:, 1], c=colors[y_train])\n",
    "        axs[1].set_title(\"Predicted - after alignment\")\n",
    "        axs[1].scatter(X_train_transform[:, 0], X_train_transform[:, 1], c=colors[updated_predictions_train])\n",
    "        plt.show()\n",
    "\n",
    "        print(\"Accuracy of the model after the alignment on the train set: \", train_accuracy)\n",
    "        print(\"Accuracy of the model after the alignment on the test set: \", test_accuracy)\n",
    "\n",
    "    return (train_accuracy, test_accuracy)"
   ]
  },
  {
   "cell_type": "markdown",
   "metadata": {},
   "source": [
    "### Finding the best Birch model\n",
    "\n",
    "Here we fit multiple Birch clustering models with various hyperparameters."
   ]
  },
  {
   "cell_type": "code",
   "execution_count": 15,
   "metadata": {},
   "outputs": [
    {
     "name": "stdout",
     "output_type": "stream",
     "text": [
      "[{'branching_factor': 100, 'n_clusters': AgglomerativeClustering(n_clusters=10), 'threshold': 0.1}, {'branching_factor': 100, 'n_clusters': AgglomerativeClustering(linkage='complete', n_clusters=10), 'threshold': 0.1}, {'branching_factor': 100, 'n_clusters': AgglomerativeClustering(linkage='average', n_clusters=10), 'threshold': 0.1}, {'branching_factor': 100, 'n_clusters': AgglomerativeClustering(linkage='single', n_clusters=10), 'threshold': 0.1}, {'branching_factor': 100, 'n_clusters': 10, 'threshold': 1}, {'branching_factor': 100, 'n_clusters': 10, 'threshold': 50}, {'branching_factor': 100, 'n_clusters': 10, 'threshold': 100}, {'branching_factor': 100, 'n_clusters': 10, 'threshold': 200}, {'branching_factor': 50, 'n_clusters': 10, 'threshold': 0.1}, {'branching_factor': 20, 'n_clusters': 10, 'threshold': 0.1}, {'branching_factor': 10, 'n_clusters': 10, 'threshold': 0.1}, {'branching_factor': 3, 'n_clusters': 10, 'threshold': 0.1}]\n",
      "Birch model with params: {'branching_factor': 100, 'n_clusters': AgglomerativeClustering(linkage='single', n_clusters=10), 'threshold': 0.1}, scored: (0.10164179104477612, 0.09717171717171717)\n",
      "Birch model with params: {'branching_factor': 100, 'n_clusters': AgglomerativeClustering(linkage='average', n_clusters=10), 'threshold': 0.1}, scored: (0.10761194029850746, 0.10353535353535354)\n",
      "Birch model with params: {'branching_factor': 100, 'n_clusters': AgglomerativeClustering(linkage='complete', n_clusters=10), 'threshold': 0.1}, scored: (0.5741293532338309, 0.5723232323232323)\n",
      "Birch model with params: {'branching_factor': 100, 'n_clusters': 10, 'threshold': 100}, scored: (0.615771144278607, 0.6176767676767677)\n"
     ]
    },
    {
     "name": "stderr",
     "output_type": "stream",
     "text": [
      "/home/visan/miniconda3/envs/pml-project2/lib/python3.13/site-packages/sklearn/cluster/_birch.py:725: ConvergenceWarning: Number of subclusters found (1) by BIRCH is less than (10). Decrease the threshold.\n",
      "  warnings.warn(\n"
     ]
    },
    {
     "name": "stdout",
     "output_type": "stream",
     "text": [
      "Birch model with params: {'branching_factor': 100, 'n_clusters': 10, 'threshold': 200}, scored: (0.10139303482587064, 0.09717171717171717)\n",
      "Birch model with params: {'branching_factor': 100, 'n_clusters': AgglomerativeClustering(n_clusters=10), 'threshold': 0.1}, scored: (0.8581094527363184, 0.8618181818181818)\n",
      "Birch model with params: {'branching_factor': 100, 'n_clusters': 10, 'threshold': 50}, scored: (0.8456218905472637, 0.8506060606060606)\n",
      "Birch model with params: {'branching_factor': 100, 'n_clusters': 10, 'threshold': 1}, scored: (0.8581094527363184, 0.8618181818181818)\n",
      "Birch model with params: {'branching_factor': 50, 'n_clusters': 10, 'threshold': 0.1}, scored: (0.8581094527363184, 0.8618181818181818)\n",
      "Birch model with params: {'branching_factor': 20, 'n_clusters': 10, 'threshold': 0.1}, scored: (0.8581094527363184, 0.8618181818181818)\n",
      "Birch model with params: {'branching_factor': 10, 'n_clusters': 10, 'threshold': 0.1}, scored: (0.8581094527363184, 0.8618181818181818)\n",
      "Birch model with params: {'branching_factor': 3, 'n_clusters': 10, 'threshold': 0.1}, scored: (0.8581094527363184, 0.8618181818181818)\n",
      "Best args for birch:  {'branching_factor': 100, 'n_clusters': AgglomerativeClustering(n_clusters=10), 'threshold': 0.1}\n"
     ]
    }
   ],
   "source": [
    "params = [{\n",
    "    \"threshold\": [0.1],\n",
    "    \"branching_factor\": [100],\n",
    "    \"n_clusters\" : [\n",
    "        AgglomerativeClustering(n_clusters=10, linkage=\"ward\"), \n",
    "        AgglomerativeClustering(n_clusters=10, linkage=\"complete\"), \n",
    "        AgglomerativeClustering(n_clusters=10, linkage=\"average\"), \n",
    "        AgglomerativeClustering(n_clusters=10, linkage=\"single\"), \n",
    "        ]\n",
    "},\n",
    "{\n",
    "    \"threshold\": [1, 50, 100, 200],\n",
    "    \"branching_factor\": [100],\n",
    "    \"n_clusters\": [10]\n",
    "},\n",
    "{\n",
    "    \"threshold\": [0.1],\n",
    "    \"branching_factor\": [50, 20, 10, 3],\n",
    "    \"n_clusters\": [10],\n",
    "},\n",
    "]\n",
    "\n",
    "param_grid = ParameterGrid(params)\n",
    "print(list(param_grid))\n",
    "\n",
    "def try_params(params):\n",
    "    model = Birch(**params)\n",
    "    model.fit(X_train, y_train)\n",
    "\n",
    "    scores = evaluate_model(model)\n",
    "    print(f\"Birch model with params: {params}, scored: {scores}\")\n",
    "    return params, scores\n",
    "\n",
    "\n",
    "result = Parallel(n_jobs=4)(delayed(try_params)(param) for param in param_grid)\n",
    "\n",
    "best_test_accuracy = 0\n",
    "for args, metrics in result:\n",
    "    train_accuracy, test_accuracy = metrics \n",
    "\n",
    "    if test_accuracy > best_test_accuracy:\n",
    "        best_args_birch = args\n",
    "        best_test_accuracy = test_accuracy\n",
    "\n",
    "print(\"Best args for birch: \", best_args_birch)\n"
   ]
  },
  {
   "cell_type": "code",
   "execution_count": 18,
   "metadata": {},
   "outputs": [
    {
     "name": "stdout",
     "output_type": "stream",
     "text": [
      "[{'metric': 'euclidean', 'n_clusters': 10, 'n_sampling': 3000}, {'metric': 'cosine', 'n_clusters': 10, 'n_sampling': 3000}, {'max_iter': 200, 'n_clusters': 10, 'n_sampling': 3000}, {'max_iter': 300, 'n_clusters': 10, 'n_sampling': 3000}, {'max_iter': 400, 'n_clusters': 10, 'n_sampling': 3000}, {'max_iter': 500, 'n_clusters': 10, 'n_sampling': 3000}, {'n_clusters': 10, 'n_sampling': 3000}, {'n_clusters': 10, 'n_sampling': 6000}, {'n_clusters': 10, 'n_sampling': 8000}]\n",
      "CLARA model with params: {'max_iter': 300, 'n_clusters': 10, 'n_sampling': 3000}, scored: (0.810547263681592, 0.8114141414141414)\n",
      "CLARA model with params: {'max_iter': 200, 'n_clusters': 10, 'n_sampling': 3000}, scored: (0.810547263681592, 0.8114141414141414)\n",
      "CLARA model with params: {'metric': 'euclidean', 'n_clusters': 10, 'n_sampling': 3000}, scored: (0.810547263681592, 0.8114141414141414)\n",
      "CLARA model with params: {'metric': 'cosine', 'n_clusters': 10, 'n_sampling': 3000}, scored: (0.7864676616915423, 0.7861616161616162)\n",
      "CLARA model with params: {'n_clusters': 10, 'n_sampling': 3000}, scored: (0.810547263681592, 0.8114141414141414)\n",
      "CLARA model with params: {'max_iter': 400, 'n_clusters': 10, 'n_sampling': 3000}, scored: (0.810547263681592, 0.8114141414141414)\n",
      "CLARA model with params: {'max_iter': 500, 'n_clusters': 10, 'n_sampling': 3000}, scored: (0.810547263681592, 0.8114141414141414)\n",
      "CLARA model with params: {'n_clusters': 10, 'n_sampling': 6000}, scored: (0.8173134328358209, 0.8170707070707071)\n",
      "CLARA model with params: {'n_clusters': 10, 'n_sampling': 8000}, scored: (0.8300497512437811, 0.8312121212121212)\n",
      "Best args for clara:  {'n_clusters': 10, 'n_sampling': 8000}\n"
     ]
    }
   ],
   "source": [
    "params = [\n",
    "    {\n",
    "    \"metric\": [\"euclidean\", \"cosine\"],\n",
    "    \"n_clusters\": [10],\n",
    "    \"n_sampling\": [3000]\n",
    "    },\n",
    "    {\n",
    "    \"max_iter\": [200, 300, 400, 500],\n",
    "    \"n_clusters\": [10],\n",
    "    \"n_sampling\": [3000]\n",
    "    },\n",
    "    {\n",
    "    \"n_clusters\": [10],\n",
    "    \"n_sampling\": [3000, 6000, 8000]\n",
    "    },\n",
    "]\n",
    "\n",
    "param_grid = ParameterGrid(params)\n",
    "print(list(param_grid))\n",
    "\n",
    "def try_params(params):\n",
    "    model = CLARA(**params, random_state=42)\n",
    "    model.fit(X_train, y_train)\n",
    "\n",
    "    scores = evaluate_model(model)\n",
    "    print(f\"CLARA model with params: {params}, scored: {scores}\")\n",
    "    return params, scores\n",
    "\n",
    "\n",
    "result = Parallel(n_jobs=4)(delayed(try_params)(param) for param in param_grid)\n",
    "\n",
    "best_test_accuracy = 0\n",
    "for args, metrics in result:\n",
    "    train_accuracy, test_accuracy = metrics \n",
    "\n",
    "    if test_accuracy > best_test_accuracy:\n",
    "        best_args_clara = args\n",
    "        best_test_accuracy = test_accuracy\n",
    "\n",
    "print(\"Best args for clara: \", best_args_clara)"
   ]
  }
 ],
 "metadata": {
  "kernelspec": {
   "display_name": "pml-project2",
   "language": "python",
   "name": "python3"
  },
  "language_info": {
   "codemirror_mode": {
    "name": "ipython",
    "version": 3
   },
   "file_extension": ".py",
   "mimetype": "text/x-python",
   "name": "python",
   "nbconvert_exporter": "python",
   "pygments_lexer": "ipython3",
   "version": "3.13.1"
  }
 },
 "nbformat": 4,
 "nbformat_minor": 2
}
